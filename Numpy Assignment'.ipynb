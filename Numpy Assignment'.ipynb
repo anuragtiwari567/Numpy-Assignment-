{
 "cells": [
  {
   "cell_type": "code",
   "execution_count": 2,
   "id": "350ffc8c-a546-43e9-a73f-a964a2f70ef8",
   "metadata": {},
   "outputs": [],
   "source": [
    "import numpy as np\n",
    "list_ = [ '1' ,'2' ,'3', '4', '5' ]\n",
    "array_list = np.array(object = list_)"
   ]
  },
  {
   "cell_type": "markdown",
   "id": "c658256c-714a-49c5-83ef-527bebf7e304",
   "metadata": {},
   "source": [
    "### Q1. Is there any difference in the data type of variables list_ and array_list? If there is then write a code to print the data types of both the variables."
   ]
  },
  {
   "cell_type": "markdown",
   "id": "65c1c61a-a6cd-4304-a145-37c651f74fd6",
   "metadata": {},
   "source": [
    "### ANS:\n",
    "\n",
    "- Yes, there is a difference between the data types of list_ and array_list. list_ is a list object, whereas array_list is a numpy array object."
   ]
  },
  {
   "cell_type": "code",
   "execution_count": 3,
   "id": "4f82b21f-16c7-4da5-815c-7bf8b43a4d40",
   "metadata": {},
   "outputs": [
    {
     "name": "stdout",
     "output_type": "stream",
     "text": [
      "The data type of list_ is <class 'list'>\n",
      "The data type of array_list is <class 'numpy.ndarray'>\n"
     ]
    }
   ],
   "source": [
    "import numpy as np\n",
    "\n",
    "list_ = [ '1' , '2' , '3' , '4' , '5' ]\n",
    "array_list = np.array(object = list_)\n",
    "\n",
    "print(f\"The data type of list_ is {type(list_)}\")\n",
    "print(f\"The data type of array_list is {type(array_list)}\")\n"
   ]
  },
  {
   "cell_type": "code",
   "execution_count": null,
   "id": "01ca96cd-fb49-4720-8c02-1f2a9407f912",
   "metadata": {},
   "outputs": [],
   "source": []
  },
  {
   "cell_type": "markdown",
   "id": "a3acd94a-6d19-4a12-8d0b-562313c11e90",
   "metadata": {},
   "source": [
    "### Q2. Write a code to print the data type of each and every element of both the variables list_ and arra_list."
   ]
  },
  {
   "cell_type": "code",
   "execution_count": 4,
   "id": "1612313b-7072-46c5-ade9-43d167b264ca",
   "metadata": {},
   "outputs": [
    {
     "name": "stdout",
     "output_type": "stream",
     "text": [
      "Data type of each element in list_:\n",
      "  1: <class 'str'>\n",
      "  2: <class 'str'>\n",
      "  3: <class 'str'>\n",
      "  4: <class 'str'>\n",
      "  5: <class 'str'>\n",
      "Data type of each element in array_list:\n",
      "  1: <class 'numpy.str_'>\n",
      "  2: <class 'numpy.str_'>\n",
      "  3: <class 'numpy.str_'>\n",
      "  4: <class 'numpy.str_'>\n",
      "  5: <class 'numpy.str_'>\n"
     ]
    }
   ],
   "source": [
    "import numpy as np\n",
    "\n",
    "list_ = [ '1' , '2' , '3' , '4' , '5' ]\n",
    "array_list = np.array(object = list_)\n",
    "\n",
    "print(\"Data type of each element in list_:\")\n",
    "for element in list_:\n",
    "    print(f\"  {element}: {type(element)}\")\n",
    "\n",
    "print(\"Data type of each element in array_list:\")\n",
    "for element in array_list:\n",
    "    print(f\"  {element}: {type(element)}\")\n"
   ]
  },
  {
   "cell_type": "code",
   "execution_count": null,
   "id": "e34a3a69-89a5-4fe3-a431-6f1a339cbbdf",
   "metadata": {},
   "outputs": [],
   "source": []
  },
  {
   "cell_type": "markdown",
   "id": "80eeaa69-0986-4cc5-9423-f78e5f969544",
   "metadata": {},
   "source": [
    "### Q3. Considering the following changes in the variable, array_list:"
   ]
  },
  {
   "cell_type": "code",
   "execution_count": null,
   "id": "251cecba-b7bc-4949-8716-2f579aa1b5a8",
   "metadata": {},
   "outputs": [],
   "source": [
    "array_list = np.array(object = list_, dtype = int)"
   ]
  },
  {
   "cell_type": "markdown",
   "id": "180f00ad-099c-4d98-b701-42704e39c95e",
   "metadata": {},
   "source": [
    "### Will there be any difference in the data type of the elements present in both the variables, list_ and arra_list? If so then print the data types of each and every element present in both the variables, list_ and arra_list. Consider the below code to answer further questions:"
   ]
  },
  {
   "cell_type": "code",
   "execution_count": 5,
   "id": "2d07f987-7ec5-42f9-834c-26bf98f6f834",
   "metadata": {},
   "outputs": [],
   "source": [
    "import numpy as np\n",
    "num_list = [ [ 1 , 2 , 3 ] , [ 4 , 5 , 6 ] ]\n",
    "num_array = np.array(object = num_list)"
   ]
  },
  {
   "cell_type": "code",
   "execution_count": 6,
   "id": "ca5ce6b6-c19a-4712-991d-488800964557",
   "metadata": {},
   "outputs": [
    {
     "data": {
      "text/plain": [
       "[[1, 2, 3], [4, 5, 6]]"
      ]
     },
     "execution_count": 6,
     "metadata": {},
     "output_type": "execute_result"
    }
   ],
   "source": [
    "num_list"
   ]
  },
  {
   "cell_type": "code",
   "execution_count": 7,
   "id": "c75865ab-09b7-4a6d-8ea4-5f599c2c40fd",
   "metadata": {},
   "outputs": [
    {
     "data": {
      "text/plain": [
       "array([[1, 2, 3],\n",
       "       [4, 5, 6]])"
      ]
     },
     "execution_count": 7,
     "metadata": {},
     "output_type": "execute_result"
    }
   ],
   "source": [
    "num_array"
   ]
  },
  {
   "cell_type": "code",
   "execution_count": 8,
   "id": "38ed7183-a8a3-4b51-a0f3-bfecf19f3b15",
   "metadata": {},
   "outputs": [
    {
     "name": "stdout",
     "output_type": "stream",
     "text": [
      "Data type of each element in list_:\n",
      "  1: <class 'str'>\n",
      "  2: <class 'str'>\n",
      "  3: <class 'str'>\n",
      "  4: <class 'str'>\n",
      "  5: <class 'str'>\n",
      "Data type of each element in array_list:\n",
      "  1: <class 'numpy.str_'>\n",
      "  2: <class 'numpy.str_'>\n",
      "  3: <class 'numpy.str_'>\n",
      "  4: <class 'numpy.str_'>\n",
      "  5: <class 'numpy.str_'>\n"
     ]
    }
   ],
   "source": [
    "print(\"Data type of each element in list_:\")\n",
    "for element in list_:\n",
    "    print(f\"  {element}: {type(element)}\")\n",
    "\n",
    "print(\"Data type of each element in array_list:\")\n",
    "for element in array_list:\n",
    "    print(f\"  {element}: {type(element)}\")"
   ]
  },
  {
   "cell_type": "code",
   "execution_count": null,
   "id": "91e7e21a-a029-48b2-b945-f3572a9ce739",
   "metadata": {},
   "outputs": [],
   "source": []
  },
  {
   "cell_type": "markdown",
   "id": "c13f43f2-adc3-4e98-ae47-49de5c45461f",
   "metadata": {},
   "source": [
    "### Q4. Write a code to find the following characteristics of variable, num_array:\n",
    "- (i) shape\n",
    "- (ii) size"
   ]
  },
  {
   "cell_type": "code",
   "execution_count": 10,
   "id": "e32ac7d9-e928-4b2f-8f22-a7eab5f9ff8d",
   "metadata": {},
   "outputs": [
    {
     "data": {
      "text/plain": [
       "(2, 3)"
      ]
     },
     "execution_count": 10,
     "metadata": {},
     "output_type": "execute_result"
    }
   ],
   "source": [
    "num_array.shape"
   ]
  },
  {
   "cell_type": "code",
   "execution_count": 11,
   "id": "474d33ba-11c6-4c82-9c95-3cb317a40151",
   "metadata": {},
   "outputs": [
    {
     "data": {
      "text/plain": [
       "6"
      ]
     },
     "execution_count": 11,
     "metadata": {},
     "output_type": "execute_result"
    }
   ],
   "source": [
    "num_array.size"
   ]
  },
  {
   "cell_type": "code",
   "execution_count": null,
   "id": "b7d4b1eb-e8ac-4d64-a116-de34a811e0d5",
   "metadata": {},
   "outputs": [],
   "source": []
  },
  {
   "cell_type": "markdown",
   "id": "92c1ca83-6aa9-462e-aa0b-1c9a4ed287cd",
   "metadata": {},
   "source": [
    "### Q5. Write a code to create numpy array of 3*3 matrix containing zeros only, using a numpy array creation function.\n",
    "[Hint: The size of the array will be 9 and the shape will be (3,3).]"
   ]
  },
  {
   "cell_type": "code",
   "execution_count": 12,
   "id": "ee4ec86d-2652-4344-b922-b278968ce635",
   "metadata": {},
   "outputs": [],
   "source": [
    "import numpy as np"
   ]
  },
  {
   "cell_type": "code",
   "execution_count": 17,
   "id": "293199f3-5f2d-4faa-a15d-487f8a5dd845",
   "metadata": {},
   "outputs": [
    {
     "data": {
      "text/plain": [
       "array([[0., 0., 0.],\n",
       "       [0., 0., 0.],\n",
       "       [0., 0., 0.]])"
      ]
     },
     "execution_count": 17,
     "metadata": {},
     "output_type": "execute_result"
    }
   ],
   "source": [
    "np.zeros((3,3))"
   ]
  },
  {
   "cell_type": "code",
   "execution_count": null,
   "id": "f15981bb-bbfe-4048-a0a0-7e6e5defaeda",
   "metadata": {},
   "outputs": [],
   "source": []
  },
  {
   "cell_type": "markdown",
   "id": "47653640-db1e-4356-8822-5165a006da05",
   "metadata": {},
   "source": [
    "### Q6. Create an identity matrix of shape (5,5) using numpy functions?\n",
    "[Hint: An identity matrix is a matrix containing 1 diagonally and other elements will be 0.]"
   ]
  },
  {
   "cell_type": "code",
   "execution_count": 19,
   "id": "ed024e8c-89b7-4689-90ba-3260889362c7",
   "metadata": {},
   "outputs": [
    {
     "data": {
      "text/plain": [
       "array([[1., 0., 0., 0., 0.],\n",
       "       [0., 1., 0., 0., 0.],\n",
       "       [0., 0., 1., 0., 0.],\n",
       "       [0., 0., 0., 1., 0.],\n",
       "       [0., 0., 0., 0., 1.]])"
      ]
     },
     "execution_count": 19,
     "metadata": {},
     "output_type": "execute_result"
    }
   ],
   "source": [
    "np.eye(5,5)"
   ]
  },
  {
   "cell_type": "code",
   "execution_count": null,
   "id": "d3130f79-32ec-45a3-a2f7-406f4dd9f00c",
   "metadata": {},
   "outputs": [],
   "source": []
  }
 ],
 "metadata": {
  "kernelspec": {
   "display_name": "Python 3 (ipykernel)",
   "language": "python",
   "name": "python3"
  },
  "language_info": {
   "codemirror_mode": {
    "name": "ipython",
    "version": 3
   },
   "file_extension": ".py",
   "mimetype": "text/x-python",
   "name": "python",
   "nbconvert_exporter": "python",
   "pygments_lexer": "ipython3",
   "version": "3.10.8"
  }
 },
 "nbformat": 4,
 "nbformat_minor": 5
}
